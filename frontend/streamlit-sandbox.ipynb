import streamlit as st

# Title of the app
st.title('My First Streamlit App')

# Add a header
st.header('Welcome to Streamlit!')

# Add some text
st.write('This is a simple Streamlit app.')

# Add a slider
slider_value = st.slider('Select a value', 0, 100, 50)
st.write('Selected value:', slider_value)

# Add a button
if st.button('Click me'):
    st.write('Button clicked!')
