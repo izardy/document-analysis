{
 "cells": [
  {
   "cell_type": "code",
   "execution_count": 29,
   "metadata": {},
   "outputs": [],
   "source": [
    "from openai import OpenAI\n",
    "import os\n",
    "from dotenv import load_dotenv\n",
    "import base64\n",
    "\n",
    "load_dotenv()\n",
    "\n",
    "def encode_image_to_base64(image_path):\n",
    "    with open(image_path, \"rb\") as image_file:\n",
    "        return base64.b64encode(image_file.read()).decode('utf-8')\n",
    "\n",
    "def describe_image(image_path):\n",
    "    try:\n",
    "        client = OpenAI(api_key=os.getenv(\"OPENAI_API_KEY\"))\n",
    "        \n",
    "        # Validate API key\n",
    "        if not os.getenv(\"OPENAI_API_KEY\"):\n",
    "            raise ValueError(\"OpenAI API key not found in environment variables\")\n",
    "            \n",
    "        # Validate image path\n",
    "        if not image_path:\n",
    "            raise ValueError(\"Image path cannot be empty\")\n",
    "\n",
    "        # Convert the image to base64\n",
    "        base64_image = encode_image_to_base64(image_path)\n",
    "\n",
    "        response = client.chat.completions.create(\n",
    "            model=\"gpt-4-turbo\",  # Using the correct model for vision\n",
    "            messages=[\n",
    "                {\n",
    "                    \"role\": \"user\",\n",
    "                    \"content\": [\n",
    "                        {\"type\": \"text\", \"text\": \"Describe this image in detail.\"},\n",
    "                        {\n",
    "                            \"type\": \"image_url\",\n",
    "                            \"image_url\": {\n",
    "                                \"url\": f\"data:image/jpeg;base64,{base64_image}\"\n",
    "                            },\n",
    "                        },\n",
    "                    ],\n",
    "                }\n",
    "            ],\n",
    "            max_tokens=300,\n",
    "        )\n",
    "        \n",
    "        return response.choices[0].message.content\n",
    "        \n",
    "    except Exception as e:\n",
    "        raise Exception(f\"Error describing image: {str(e)}\")\n",
    "    \n",
    "def extract_text_from_img(image_path):\n",
    "    try:\n",
    "        client = OpenAI(api_key=os.getenv(\"OPENAI_API_KEY\"))\n",
    "        \n",
    "        # Validate API key\n",
    "        if not os.getenv(\"OPENAI_API_KEY\"):\n",
    "            raise ValueError(\"OpenAI API key not found in environment variables\")\n",
    "            \n",
    "        # Validate image path\n",
    "        if not image_path:\n",
    "            raise ValueError(\"Image path cannot be empty\")\n",
    "\n",
    "        # Convert the image to base64\n",
    "        base64_image = encode_image_to_base64(image_path)\n",
    "\n",
    "        response = client.chat.completions.create(\n",
    "            model=\"gpt-4-turbo\",  # Using the correct model for vision\n",
    "            messages=[\n",
    "                {\n",
    "                    \"role\": \"user\",\n",
    "                    \"content\": [\n",
    "                        {\"type\": \"text\", \"text\": \"Extract text from this image only. Do not include any other information.\"},\n",
    "                        {\n",
    "                            \"type\": \"image_url\",\n",
    "                            \"image_url\": {\n",
    "                                \"url\": f\"data:image/jpeg;base64,{base64_image}\"\n",
    "                            },\n",
    "                        },\n",
    "                    ],\n",
    "                }\n",
    "            ],\n",
    "            max_tokens=300,\n",
    "        )\n",
    "        \n",
    "        return response.choices[0].message.content\n",
    "        \n",
    "    except Exception as e:\n",
    "        raise Exception(f\"Error describing image: {str(e)}\")\n"
   ]
  },
  {
   "cell_type": "code",
   "execution_count": 30,
   "metadata": {},
   "outputs": [
    {
     "data": {
      "text/plain": [
       "'This image displays a text excerpt, presumably from a news article or official judiciary communication. The text begins with a geopolitical locator, \"KUALA LUMPUR,\" indicating the location of the event described. It reports a decision by the High Court regarding Dr. Mahathir Mohamad\\'s right to be present at the hearing of the Batu Puteh royal commission of inquiry (RCI). The High Court, with Justice Amarjeet Singh presiding, denied this right without providing a reason, and the proceedings were brief, lasting less than five minutes.\\n\\nJustice Singh mentioned that he will give his grounds for the judgment later as a response to lawyer Zainur Zakaria\\'s inquiry about why the judicial review application was dismissed. Additionally, another lawyer named Rafique Rashid Ali, who appeared alongside Zainur, said that he had instructions from Mahathir to file an appeal.\\n\\nThe text is formatted in a plain, readable typeface with the events described succinctly and professionally, reflecting standard reporting for legal and court matters.'"
      ]
     },
     "execution_count": 30,
     "metadata": {},
     "output_type": "execute_result"
    }
   ],
   "source": [
    "describe_image(image_path='img.jpeg')"
   ]
  },
  {
   "cell_type": "code",
   "execution_count": 31,
   "metadata": {},
   "outputs": [
    {
     "data": {
      "text/plain": [
       "'KUALA LUMPUR: The High Court has denied Dr Mahathir Mohamad the right to be present, either personally or through his lawyers, at the hearing of Batu Puteh royal commission of inquiry (RCI).\\n\\nJustice Amarjeet Singh gave no reason for his ruling in proceedings which took less than five minutes.\\n\\n“I will give my grounds of judgment in due course,” he said when asked by lawyer Zainur Zakaria why the judicial review application was dismissed.\\n\\nLawyer Rafique Rashid Ali, appearing with Zainur, said he had instructions from Mahathir to file an appeal.'"
      ]
     },
     "execution_count": 31,
     "metadata": {},
     "output_type": "execute_result"
    }
   ],
   "source": [
    "extract_text_from_img(image_path='img.jpeg')"
   ]
  }
 ],
 "metadata": {
  "kernelspec": {
   "display_name": "sandbox",
   "language": "python",
   "name": "python3"
  },
  "language_info": {
   "codemirror_mode": {
    "name": "ipython",
    "version": 3
   },
   "file_extension": ".py",
   "mimetype": "text/x-python",
   "name": "python",
   "nbconvert_exporter": "python",
   "pygments_lexer": "ipython3",
   "version": "3.10.0"
  }
 },
 "nbformat": 4,
 "nbformat_minor": 2
}
