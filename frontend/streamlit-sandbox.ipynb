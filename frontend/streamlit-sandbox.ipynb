{
 "cells": [
  {
   "cell_type": "code",
   "execution_count": null,
   "metadata": {},
   "outputs": [],
   "source": [
    "# copy and paste the following example in .py file\n",
    "\n",
    "import streamlit as st\n",
    "\n",
    "# Title of the app\n",
    "st.title('My First Streamlit App')\n",
    "\n",
    "# Add a header\n",
    "st.header('Welcome to Streamlit!')\n",
    "\n",
    "# Add some text\n",
    "st.write('This is a simple Streamlit app.')\n",
    "\n",
    "# Add a slider\n",
    "slider_value = st.slider('Select a value', 0, 100, 50)\n",
    "st.write('Selected value:', slider_value)\n",
    "\n",
    "# Add a button\n",
    "if st.button('Click me'):\n",
    "    st.write('Button clicked!')\n"
   ]
  }
 ],
 "metadata": {
  "kernelspec": {
   "display_name": "apps",
   "language": "python",
   "name": "python3"
  },
  "language_info": {
   "codemirror_mode": {
    "name": "ipython",
    "version": 3
   },
   "file_extension": ".py",
   "mimetype": "text/x-python",
   "name": "python",
   "nbconvert_exporter": "python",
   "pygments_lexer": "ipython3",
   "version": "3.10.13"
  }
 },
 "nbformat": 4,
 "nbformat_minor": 2
}
